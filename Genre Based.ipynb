{
 "cells": [
  {
   "cell_type": "code",
   "execution_count": 1,
   "id": "4789e719",
   "metadata": {},
   "outputs": [],
   "source": [
    "import numpy as np # linear algebra\n",
    "import pandas as pd # data processing, CSV file I/O (e.g. pd.read_csv)\n"
   ]
  },
  {
   "cell_type": "code",
   "execution_count": 2,
   "id": "f3cd2f39",
   "metadata": {},
   "outputs": [],
   "source": [
    "#Genre Based"
   ]
  },
  {
   "cell_type": "code",
   "execution_count": 3,
   "id": "6ead5c48",
   "metadata": {},
   "outputs": [],
   "source": [
    "songsG=movies = pd.read_csv('ex2.csv')"
   ]
  },
  {
   "cell_type": "code",
   "execution_count": 4,
   "id": "efd0aab7",
   "metadata": {
    "scrolled": true
   },
   "outputs": [
    {
     "data": {
      "text/html": [
       "<div>\n",
       "<style scoped>\n",
       "    .dataframe tbody tr th:only-of-type {\n",
       "        vertical-align: middle;\n",
       "    }\n",
       "\n",
       "    .dataframe tbody tr th {\n",
       "        vertical-align: top;\n",
       "    }\n",
       "\n",
       "    .dataframe thead th {\n",
       "        text-align: right;\n",
       "    }\n",
       "</style>\n",
       "<table border=\"1\" class=\"dataframe\">\n",
       "  <thead>\n",
       "    <tr style=\"text-align: right;\">\n",
       "      <th></th>\n",
       "      <th>Sr.no</th>\n",
       "      <th>Name</th>\n",
       "      <th>Artist</th>\n",
       "      <th>Genre</th>\n",
       "      <th>Movie</th>\n",
       "      <th>Rating</th>\n",
       "    </tr>\n",
       "  </thead>\n",
       "  <tbody>\n",
       "    <tr>\n",
       "      <th>0</th>\n",
       "      <td>1</td>\n",
       "      <td>Aankh Marey</td>\n",
       "      <td>Kumar Sanu, Mika Singh, Neha Kakkar</td>\n",
       "      <td>BollywoodDance</td>\n",
       "      <td>Simmba</td>\n",
       "      <td>8.8/10</td>\n",
       "    </tr>\n",
       "    <tr>\n",
       "      <th>1</th>\n",
       "      <td>2</td>\n",
       "      <td>Coca Cola</td>\n",
       "      <td>Neha Kakkar, Tony Kakkar</td>\n",
       "      <td>BollywoodDanceRomantic</td>\n",
       "      <td>Luka Chuppi</td>\n",
       "      <td>9.0/10</td>\n",
       "    </tr>\n",
       "    <tr>\n",
       "      <th>2</th>\n",
       "      <td>3</td>\n",
       "      <td>Apna Time Aayega</td>\n",
       "      <td>Ranveer Singh</td>\n",
       "      <td>BollywoodDance</td>\n",
       "      <td>Gully Boy</td>\n",
       "      <td>9.7/10</td>\n",
       "    </tr>\n",
       "    <tr>\n",
       "      <th>3</th>\n",
       "      <td>4</td>\n",
       "      <td>Mungda</td>\n",
       "      <td>Jyotica Tangri, Shaan, Subhro Ganguly</td>\n",
       "      <td>BollywoodDance</td>\n",
       "      <td>Total Dhamaal</td>\n",
       "      <td>9.1/10</td>\n",
       "    </tr>\n",
       "    <tr>\n",
       "      <th>4</th>\n",
       "      <td>5</td>\n",
       "      <td>Tere Bin</td>\n",
       "      <td>Asees Kaur, Rahat Fateh Ali Khan, Tanishk Bagchi</td>\n",
       "      <td>BollywoodRomantic</td>\n",
       "      <td>Simmba</td>\n",
       "      <td>9.2/10</td>\n",
       "    </tr>\n",
       "  </tbody>\n",
       "</table>\n",
       "</div>"
      ],
      "text/plain": [
       "   Sr.no              Name                                            Artist  \\\n",
       "0      1       Aankh Marey               Kumar Sanu, Mika Singh, Neha Kakkar   \n",
       "1      2         Coca Cola                          Neha Kakkar, Tony Kakkar   \n",
       "2      3  Apna Time Aayega                                     Ranveer Singh   \n",
       "3      4            Mungda             Jyotica Tangri, Shaan, Subhro Ganguly   \n",
       "4      5          Tere Bin  Asees Kaur, Rahat Fateh Ali Khan, Tanishk Bagchi   \n",
       "\n",
       "                    Genre          Movie  Rating  \n",
       "0          BollywoodDance         Simmba  8.8/10  \n",
       "1  BollywoodDanceRomantic    Luka Chuppi  9.0/10  \n",
       "2          BollywoodDance      Gully Boy  9.7/10  \n",
       "3          BollywoodDance  Total Dhamaal  9.1/10  \n",
       "4       BollywoodRomantic         Simmba  9.2/10  "
      ]
     },
     "execution_count": 4,
     "metadata": {},
     "output_type": "execute_result"
    }
   ],
   "source": [
    "songsG.head()"
   ]
  },
  {
   "cell_type": "code",
   "execution_count": 5,
   "id": "37a92070",
   "metadata": {},
   "outputs": [],
   "source": [
    "songsG.drop('Sr.no',inplace=True, axis=1)"
   ]
  },
  {
   "cell_type": "code",
   "execution_count": 6,
   "id": "a5c652ed",
   "metadata": {},
   "outputs": [],
   "source": [
    "songsG.drop('Rating',inplace=True, axis=1)\n"
   ]
  },
  {
   "cell_type": "code",
   "execution_count": 7,
   "id": "cf4e26a2",
   "metadata": {},
   "outputs": [
    {
     "data": {
      "text/html": [
       "<div>\n",
       "<style scoped>\n",
       "    .dataframe tbody tr th:only-of-type {\n",
       "        vertical-align: middle;\n",
       "    }\n",
       "\n",
       "    .dataframe tbody tr th {\n",
       "        vertical-align: top;\n",
       "    }\n",
       "\n",
       "    .dataframe thead th {\n",
       "        text-align: right;\n",
       "    }\n",
       "</style>\n",
       "<table border=\"1\" class=\"dataframe\">\n",
       "  <thead>\n",
       "    <tr style=\"text-align: right;\">\n",
       "      <th></th>\n",
       "      <th>Name</th>\n",
       "      <th>Artist</th>\n",
       "      <th>Genre</th>\n",
       "      <th>Movie</th>\n",
       "    </tr>\n",
       "  </thead>\n",
       "  <tbody>\n",
       "    <tr>\n",
       "      <th>0</th>\n",
       "      <td>Aankh Marey</td>\n",
       "      <td>Kumar Sanu, Mika Singh, Neha Kakkar</td>\n",
       "      <td>BollywoodDance</td>\n",
       "      <td>Simmba</td>\n",
       "    </tr>\n",
       "    <tr>\n",
       "      <th>1</th>\n",
       "      <td>Coca Cola</td>\n",
       "      <td>Neha Kakkar, Tony Kakkar</td>\n",
       "      <td>BollywoodDanceRomantic</td>\n",
       "      <td>Luka Chuppi</td>\n",
       "    </tr>\n",
       "    <tr>\n",
       "      <th>2</th>\n",
       "      <td>Apna Time Aayega</td>\n",
       "      <td>Ranveer Singh</td>\n",
       "      <td>BollywoodDance</td>\n",
       "      <td>Gully Boy</td>\n",
       "    </tr>\n",
       "    <tr>\n",
       "      <th>3</th>\n",
       "      <td>Mungda</td>\n",
       "      <td>Jyotica Tangri, Shaan, Subhro Ganguly</td>\n",
       "      <td>BollywoodDance</td>\n",
       "      <td>Total Dhamaal</td>\n",
       "    </tr>\n",
       "    <tr>\n",
       "      <th>4</th>\n",
       "      <td>Tere Bin</td>\n",
       "      <td>Asees Kaur, Rahat Fateh Ali Khan, Tanishk Bagchi</td>\n",
       "      <td>BollywoodRomantic</td>\n",
       "      <td>Simmba</td>\n",
       "    </tr>\n",
       "  </tbody>\n",
       "</table>\n",
       "</div>"
      ],
      "text/plain": [
       "               Name                                            Artist  \\\n",
       "0       Aankh Marey               Kumar Sanu, Mika Singh, Neha Kakkar   \n",
       "1         Coca Cola                          Neha Kakkar, Tony Kakkar   \n",
       "2  Apna Time Aayega                                     Ranveer Singh   \n",
       "3            Mungda             Jyotica Tangri, Shaan, Subhro Ganguly   \n",
       "4          Tere Bin  Asees Kaur, Rahat Fateh Ali Khan, Tanishk Bagchi   \n",
       "\n",
       "                    Genre          Movie  \n",
       "0          BollywoodDance         Simmba  \n",
       "1  BollywoodDanceRomantic    Luka Chuppi  \n",
       "2          BollywoodDance      Gully Boy  \n",
       "3          BollywoodDance  Total Dhamaal  \n",
       "4       BollywoodRomantic         Simmba  "
      ]
     },
     "execution_count": 7,
     "metadata": {},
     "output_type": "execute_result"
    }
   ],
   "source": [
    "songsG.head()"
   ]
  },
  {
   "cell_type": "code",
   "execution_count": 8,
   "id": "e596c5c1",
   "metadata": {},
   "outputs": [],
   "source": [
    "from sklearn.feature_extraction.text import CountVectorizer\n",
    "cv = CountVectorizer(max_features=2500)"
   ]
  },
  {
   "cell_type": "code",
   "execution_count": 9,
   "id": "1edc9aea",
   "metadata": {},
   "outputs": [],
   "source": [
    "vector = cv.fit_transform(songsG['Genre']).toarray()"
   ]
  },
  {
   "cell_type": "code",
   "execution_count": 10,
   "id": "e8f77413",
   "metadata": {},
   "outputs": [
    {
     "data": {
      "text/plain": [
       "(2420, 21)"
      ]
     },
     "execution_count": 10,
     "metadata": {},
     "output_type": "execute_result"
    }
   ],
   "source": [
    "vector.shape"
   ]
  },
  {
   "cell_type": "code",
   "execution_count": 11,
   "id": "a4e16a45",
   "metadata": {},
   "outputs": [],
   "source": [
    "from sklearn.metrics.pairwise import cosine_similarity"
   ]
  },
  {
   "cell_type": "code",
   "execution_count": 12,
   "id": "3600d39e",
   "metadata": {},
   "outputs": [],
   "source": [
    "similarity = cosine_similarity(vector)"
   ]
  },
  {
   "cell_type": "code",
   "execution_count": 13,
   "id": "955cb544",
   "metadata": {},
   "outputs": [
    {
     "data": {
      "text/plain": [
       "array([[1., 0., 1., ..., 1., 1., 1.],\n",
       "       [0., 1., 0., ..., 0., 0., 0.],\n",
       "       [1., 0., 1., ..., 1., 1., 1.],\n",
       "       ...,\n",
       "       [1., 0., 1., ..., 1., 1., 1.],\n",
       "       [1., 0., 1., ..., 1., 1., 1.],\n",
       "       [1., 0., 1., ..., 1., 1., 1.]])"
      ]
     },
     "execution_count": 13,
     "metadata": {},
     "output_type": "execute_result"
    }
   ],
   "source": [
    "similarity"
   ]
  },
  {
   "cell_type": "code",
   "execution_count": 14,
   "id": "38aaa74b",
   "metadata": {},
   "outputs": [
    {
     "data": {
      "text/plain": [
       "array([1., 0., 1., ..., 1., 1., 1.])"
      ]
     },
     "execution_count": 14,
     "metadata": {},
     "output_type": "execute_result"
    }
   ],
   "source": [
    "similarity[0]"
   ]
  },
  {
   "cell_type": "code",
   "execution_count": 15,
   "id": "7b88ae14",
   "metadata": {},
   "outputs": [],
   "source": [
    "    \n",
    "def recommend(song):\n",
    "    index = songsG[songsG['Genre'] == song].index[0]\n",
    "    distances = sorted(list(enumerate(similarity[index])),reverse=True,key = lambda x: x[1])\n",
    "    for i in distances[1:11]:\n",
    "        print(songsG.iloc[i[0]].Name)\n",
    "        "
   ]
  },
  {
   "cell_type": "code",
   "execution_count": 16,
   "id": "7f59a8e2",
   "metadata": {},
   "outputs": [
    {
     "name": "stdout",
     "output_type": "stream",
     "text": [
      "Mera Intkam Dekhegi\n",
      "Ae Dil Hai Mushkil\n",
      "Musafir\n",
      "Shikwa Nahin Kisi Se\n",
      "Phir Bhi Tumko Chaahunga\n",
      "Tujhse Kahan Judaa Hoon Main\n",
      "Jay-Jaykara\n",
      "Sunn Le Zara\n",
      "Chitthi Aai Hai\n",
      "Channa Mereya\n"
     ]
    }
   ],
   "source": [
    "recommend('BollywoodSad')"
   ]
  },
  {
   "cell_type": "code",
   "execution_count": null,
   "id": "f0a801bf",
   "metadata": {},
   "outputs": [],
   "source": [
    "    \n"
   ]
  },
  {
   "cell_type": "code",
   "execution_count": 17,
   "id": "9d5a004c",
   "metadata": {},
   "outputs": [],
   "source": [
    "import pickle"
   ]
  },
  {
   "cell_type": "code",
   "execution_count": 18,
   "id": "e567c98e",
   "metadata": {},
   "outputs": [],
   "source": [
    "pickle.dump(songsG,open('music.pkl','wb'))"
   ]
  },
  {
   "cell_type": "code",
   "execution_count": 19,
   "id": "7e6aee90",
   "metadata": {},
   "outputs": [
    {
     "data": {
      "text/plain": [
       "array(['BollywoodDance', 'BollywoodDanceRomantic', 'BollywoodDance', ...,\n",
       "       'BollywoodDance', 'BollywoodDance', 'BollywoodDance'], dtype=object)"
      ]
     },
     "execution_count": 19,
     "metadata": {},
     "output_type": "execute_result"
    }
   ],
   "source": [
    "songsG['Genre'].values"
   ]
  },
  {
   "cell_type": "code",
   "execution_count": 20,
   "id": "a7d7da1b",
   "metadata": {},
   "outputs": [],
   "source": [
    "data=songsG['Genre'].values"
   ]
  },
  {
   "cell_type": "code",
   "execution_count": 21,
   "id": "c580dcd2",
   "metadata": {},
   "outputs": [],
   "source": [
    "genre_a = np.unique(data)"
   ]
  },
  {
   "cell_type": "code",
   "execution_count": 22,
   "id": "275c155a",
   "metadata": {},
   "outputs": [
    {
     "name": "stdout",
     "output_type": "stream",
     "text": [
      "['Bollywood' 'BollywoodDance' 'BollywoodDanceMotivationalPatriotic'\n",
      " 'BollywoodDancePatriotic' 'BollywoodDanceRomance'\n",
      " 'BollywoodDanceRomantic' 'BollywoodDanceSad' 'BollywoodDanceSensual'\n",
      " 'BollywoodDevotional' 'BollywoodDevotionalSad' 'BollywoodMotivational'\n",
      " 'BollywoodMotivationalPatriotic' 'BollywoodPatriotic'\n",
      " 'BollywoodPatrioticSad' 'BollywoodRomance' 'BollywoodRomantic'\n",
      " 'BollywoodRomanticSad' 'BollywoodRomanticSadSensual'\n",
      " 'BollywoodRomanticSensual' 'BollywoodSad' 'BollywoodSensual']\n"
     ]
    }
   ],
   "source": [
    "print(genre_a)"
   ]
  },
  {
   "cell_type": "code",
   "execution_count": 23,
   "id": "a3c2e971",
   "metadata": {},
   "outputs": [],
   "source": [
    "\n",
    "\n",
    "genre_a = np.setdiff1d(genre_a, ['BollywoodDanceMotivationalPatriotic','BollywoodRomanticSadSensual','BollywoodDevotionalSad','BollywoodMotivationalPatriotic','BollywoodDancePatriotic','BollywoodDancePatriotic','BollywoodDanceSensual','BollywoodPatrioticSad'])\n",
    "#genre_a.remove(BollywoodDanceMotivationalPatriotic)\n",
    "#genre_a.remove(BollywoodRomanticSadSensual)\n"
   ]
  },
  {
   "cell_type": "code",
   "execution_count": 24,
   "id": "068114bb",
   "metadata": {},
   "outputs": [
    {
     "name": "stdout",
     "output_type": "stream",
     "text": [
      "['Bollywood' 'BollywoodDance' 'BollywoodDanceRomance'\n",
      " 'BollywoodDanceRomantic' 'BollywoodDanceSad' 'BollywoodDevotional'\n",
      " 'BollywoodMotivational' 'BollywoodPatriotic' 'BollywoodRomance'\n",
      " 'BollywoodRomantic' 'BollywoodRomanticSad' 'BollywoodRomanticSensual'\n",
      " 'BollywoodSad' 'BollywoodSensual']\n"
     ]
    }
   ],
   "source": [
    "print(genre_a)"
   ]
  },
  {
   "cell_type": "code",
   "execution_count": 25,
   "id": "b9b94fc9",
   "metadata": {},
   "outputs": [],
   "source": [
    "import pickle"
   ]
  },
  {
   "cell_type": "code",
   "execution_count": 26,
   "id": "70a1d7b7",
   "metadata": {},
   "outputs": [],
   "source": [
    "pickle.dump(songsG,open('music.pkl','wb'))"
   ]
  },
  {
   "cell_type": "code",
   "execution_count": 27,
   "id": "284d5b6a",
   "metadata": {},
   "outputs": [
    {
     "data": {
      "text/plain": [
       "array(['BollywoodDance', 'BollywoodDanceRomantic', 'BollywoodDance', ...,\n",
       "       'BollywoodDance', 'BollywoodDance', 'BollywoodDance'], dtype=object)"
      ]
     },
     "execution_count": 27,
     "metadata": {},
     "output_type": "execute_result"
    }
   ],
   "source": [
    "songsG['Genre'].values"
   ]
  },
  {
   "cell_type": "code",
   "execution_count": 28,
   "id": "4c4bb359",
   "metadata": {},
   "outputs": [],
   "source": [
    "pickle.dump(genre_a,open('music_genre.pkl','wb'))"
   ]
  },
  {
   "cell_type": "code",
   "execution_count": 29,
   "id": "22a5b7b3",
   "metadata": {},
   "outputs": [],
   "source": [
    "pickle.dump(similarity,open('similarity.pkl','wb'))"
   ]
  },
  {
   "cell_type": "code",
   "execution_count": 30,
   "id": "d12f62de",
   "metadata": {},
   "outputs": [],
   "source": [
    "pickle.dump(songsG,open('songsG.pkl','wb'))"
   ]
  },
  {
   "cell_type": "code",
   "execution_count": null,
   "id": "1feb30ed",
   "metadata": {},
   "outputs": [],
   "source": []
  },
  {
   "cell_type": "code",
   "execution_count": null,
   "id": "250d1c20",
   "metadata": {},
   "outputs": [],
   "source": []
  },
  {
   "cell_type": "code",
   "execution_count": null,
   "id": "f42ed856",
   "metadata": {},
   "outputs": [],
   "source": []
  },
  {
   "cell_type": "code",
   "execution_count": null,
   "id": "962d7252",
   "metadata": {},
   "outputs": [],
   "source": []
  },
  {
   "cell_type": "code",
   "execution_count": null,
   "id": "f762c4bc",
   "metadata": {},
   "outputs": [],
   "source": []
  }
 ],
 "metadata": {
  "kernelspec": {
   "display_name": "Python 3 (ipykernel)",
   "language": "python",
   "name": "python3"
  },
  "language_info": {
   "codemirror_mode": {
    "name": "ipython",
    "version": 3
   },
   "file_extension": ".py",
   "mimetype": "text/x-python",
   "name": "python",
   "nbconvert_exporter": "python",
   "pygments_lexer": "ipython3",
   "version": "3.10.9"
  }
 },
 "nbformat": 4,
 "nbformat_minor": 5
}
