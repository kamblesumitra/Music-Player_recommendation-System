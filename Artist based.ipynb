{
 "cells": [
  {
   "cell_type": "code",
   "execution_count": 1,
   "id": "262ccb01",
   "metadata": {},
   "outputs": [],
   "source": [
    "import numpy as np # linear algebra\n",
    "import pandas as pd # data processing, CSV file I/O (e.g. pd.read_csv)\n",
    "\n"
   ]
  },
  {
   "cell_type": "code",
   "execution_count": 2,
   "id": "688be165",
   "metadata": {},
   "outputs": [],
   "source": [
    "#Artist based"
   ]
  },
  {
   "cell_type": "code",
   "execution_count": 3,
   "id": "f0878895",
   "metadata": {},
   "outputs": [],
   "source": [
    "songsA = pd.read_csv('SingerandSongs _3.csv')"
   ]
  },
  {
   "cell_type": "code",
   "execution_count": 4,
   "id": "02af7712",
   "metadata": {},
   "outputs": [
    {
     "data": {
      "text/html": [
       "<div>\n",
       "<style scoped>\n",
       "    .dataframe tbody tr th:only-of-type {\n",
       "        vertical-align: middle;\n",
       "    }\n",
       "\n",
       "    .dataframe tbody tr th {\n",
       "        vertical-align: top;\n",
       "    }\n",
       "\n",
       "    .dataframe thead th {\n",
       "        text-align: right;\n",
       "    }\n",
       "</style>\n",
       "<table border=\"1\" class=\"dataframe\">\n",
       "  <thead>\n",
       "    <tr style=\"text-align: right;\">\n",
       "      <th></th>\n",
       "      <th>Singer</th>\n",
       "      <th>acousticness</th>\n",
       "      <th>danceability</th>\n",
       "      <th>energy</th>\n",
       "      <th>id</th>\n",
       "      <th>instrumentalness</th>\n",
       "      <th>key</th>\n",
       "      <th>liveness</th>\n",
       "      <th>loudness</th>\n",
       "      <th>mode</th>\n",
       "      <th>Song name</th>\n",
       "      <th>speechiness</th>\n",
       "      <th>tempo</th>\n",
       "      <th>track_href</th>\n",
       "      <th>valence</th>\n",
       "    </tr>\n",
       "  </thead>\n",
       "  <tbody>\n",
       "    <tr>\n",
       "      <th>0</th>\n",
       "      <td>Aastha Gill</td>\n",
       "      <td>0.48500</td>\n",
       "      <td>0.770</td>\n",
       "      <td>0.824</td>\n",
       "      <td>39ujbBjTwwqUFySaCYDMMT</td>\n",
       "      <td>0.000000</td>\n",
       "      <td>1</td>\n",
       "      <td>0.3180</td>\n",
       "      <td>-6.491</td>\n",
       "      <td>0</td>\n",
       "      <td>Proper Patola</td>\n",
       "      <td>0.0851</td>\n",
       "      <td>172.006</td>\n",
       "      <td>https://open.spotify.com/track/39ujbBjTwwqUFyS...</td>\n",
       "      <td>0.490</td>\n",
       "    </tr>\n",
       "    <tr>\n",
       "      <th>1</th>\n",
       "      <td>Aastha Gill</td>\n",
       "      <td>0.14300</td>\n",
       "      <td>0.825</td>\n",
       "      <td>0.666</td>\n",
       "      <td>5cjVsWqIkBQC7acTRhL0RO</td>\n",
       "      <td>0.000003</td>\n",
       "      <td>4</td>\n",
       "      <td>0.2370</td>\n",
       "      <td>-4.847</td>\n",
       "      <td>0</td>\n",
       "      <td>Kamariya</td>\n",
       "      <td>0.0554</td>\n",
       "      <td>96.987</td>\n",
       "      <td>https://open.spotify.com/track/5cjVsWqIkBQC7ac...</td>\n",
       "      <td>0.763</td>\n",
       "    </tr>\n",
       "    <tr>\n",
       "      <th>2</th>\n",
       "      <td>Aastha Gill</td>\n",
       "      <td>0.23600</td>\n",
       "      <td>0.663</td>\n",
       "      <td>0.551</td>\n",
       "      <td>3XYvdqcZrTmRntFDDbJkJd</td>\n",
       "      <td>0.000036</td>\n",
       "      <td>3</td>\n",
       "      <td>0.0923</td>\n",
       "      <td>-8.272</td>\n",
       "      <td>0</td>\n",
       "      <td>Buzz (feat. Badshah)</td>\n",
       "      <td>0.1090</td>\n",
       "      <td>113.314</td>\n",
       "      <td>https://open.spotify.com/track/3XYvdqcZrTmRntF...</td>\n",
       "      <td>0.601</td>\n",
       "    </tr>\n",
       "    <tr>\n",
       "      <th>3</th>\n",
       "      <td>Aastha Gill</td>\n",
       "      <td>0.00323</td>\n",
       "      <td>0.919</td>\n",
       "      <td>0.571</td>\n",
       "      <td>46GBoFCdFZZSjuGaZjZmGv</td>\n",
       "      <td>0.001680</td>\n",
       "      <td>5</td>\n",
       "      <td>0.1030</td>\n",
       "      <td>-7.175</td>\n",
       "      <td>0</td>\n",
       "      <td>Saara India</td>\n",
       "      <td>0.0687</td>\n",
       "      <td>105.007</td>\n",
       "      <td>https://open.spotify.com/track/46GBoFCdFZZSjuG...</td>\n",
       "      <td>0.231</td>\n",
       "    </tr>\n",
       "    <tr>\n",
       "      <th>4</th>\n",
       "      <td>Aastha Gill</td>\n",
       "      <td>0.12900</td>\n",
       "      <td>0.867</td>\n",
       "      <td>0.720</td>\n",
       "      <td>6VwVEIiCro1EMyh9B6Om3v</td>\n",
       "      <td>0.000000</td>\n",
       "      <td>9</td>\n",
       "      <td>0.2280</td>\n",
       "      <td>-5.188</td>\n",
       "      <td>0</td>\n",
       "      <td>Drunk n High</td>\n",
       "      <td>0.0619</td>\n",
       "      <td>104.974</td>\n",
       "      <td>https://open.spotify.com/track/6VwVEIiCro1EMyh...</td>\n",
       "      <td>0.755</td>\n",
       "    </tr>\n",
       "  </tbody>\n",
       "</table>\n",
       "</div>"
      ],
      "text/plain": [
       "        Singer  acousticness  danceability  energy                      id  \\\n",
       "0  Aastha Gill       0.48500         0.770   0.824  39ujbBjTwwqUFySaCYDMMT   \n",
       "1  Aastha Gill       0.14300         0.825   0.666  5cjVsWqIkBQC7acTRhL0RO   \n",
       "2  Aastha Gill       0.23600         0.663   0.551  3XYvdqcZrTmRntFDDbJkJd   \n",
       "3  Aastha Gill       0.00323         0.919   0.571  46GBoFCdFZZSjuGaZjZmGv   \n",
       "4  Aastha Gill       0.12900         0.867   0.720  6VwVEIiCro1EMyh9B6Om3v   \n",
       "\n",
       "   instrumentalness  key  liveness  loudness  mode             Song name  \\\n",
       "0          0.000000    1    0.3180    -6.491     0         Proper Patola   \n",
       "1          0.000003    4    0.2370    -4.847     0              Kamariya   \n",
       "2          0.000036    3    0.0923    -8.272     0  Buzz (feat. Badshah)   \n",
       "3          0.001680    5    0.1030    -7.175     0           Saara India   \n",
       "4          0.000000    9    0.2280    -5.188     0          Drunk n High   \n",
       "\n",
       "   speechiness    tempo                                         track_href  \\\n",
       "0       0.0851  172.006  https://open.spotify.com/track/39ujbBjTwwqUFyS...   \n",
       "1       0.0554   96.987  https://open.spotify.com/track/5cjVsWqIkBQC7ac...   \n",
       "2       0.1090  113.314  https://open.spotify.com/track/3XYvdqcZrTmRntF...   \n",
       "3       0.0687  105.007  https://open.spotify.com/track/46GBoFCdFZZSjuG...   \n",
       "4       0.0619  104.974  https://open.spotify.com/track/6VwVEIiCro1EMyh...   \n",
       "\n",
       "   valence  \n",
       "0    0.490  \n",
       "1    0.763  \n",
       "2    0.601  \n",
       "3    0.231  \n",
       "4    0.755  "
      ]
     },
     "execution_count": 4,
     "metadata": {},
     "output_type": "execute_result"
    }
   ],
   "source": [
    "songsA.head()"
   ]
  },
  {
   "cell_type": "code",
   "execution_count": 5,
   "id": "5f68c5fd",
   "metadata": {},
   "outputs": [],
   "source": [
    "songsA = songsA.rename({'Song name': 'Name'}, axis=1)\n"
   ]
  },
  {
   "cell_type": "code",
   "execution_count": 6,
   "id": "483c8f69",
   "metadata": {},
   "outputs": [
    {
     "data": {
      "text/html": [
       "<div>\n",
       "<style scoped>\n",
       "    .dataframe tbody tr th:only-of-type {\n",
       "        vertical-align: middle;\n",
       "    }\n",
       "\n",
       "    .dataframe tbody tr th {\n",
       "        vertical-align: top;\n",
       "    }\n",
       "\n",
       "    .dataframe thead th {\n",
       "        text-align: right;\n",
       "    }\n",
       "</style>\n",
       "<table border=\"1\" class=\"dataframe\">\n",
       "  <thead>\n",
       "    <tr style=\"text-align: right;\">\n",
       "      <th></th>\n",
       "      <th>Singer</th>\n",
       "      <th>acousticness</th>\n",
       "      <th>danceability</th>\n",
       "      <th>energy</th>\n",
       "      <th>id</th>\n",
       "      <th>instrumentalness</th>\n",
       "      <th>key</th>\n",
       "      <th>liveness</th>\n",
       "      <th>loudness</th>\n",
       "      <th>mode</th>\n",
       "      <th>Name</th>\n",
       "      <th>speechiness</th>\n",
       "      <th>tempo</th>\n",
       "      <th>track_href</th>\n",
       "      <th>valence</th>\n",
       "    </tr>\n",
       "  </thead>\n",
       "  <tbody>\n",
       "    <tr>\n",
       "      <th>0</th>\n",
       "      <td>Aastha Gill</td>\n",
       "      <td>0.48500</td>\n",
       "      <td>0.770</td>\n",
       "      <td>0.824</td>\n",
       "      <td>39ujbBjTwwqUFySaCYDMMT</td>\n",
       "      <td>0.000000</td>\n",
       "      <td>1</td>\n",
       "      <td>0.3180</td>\n",
       "      <td>-6.491</td>\n",
       "      <td>0</td>\n",
       "      <td>Proper Patola</td>\n",
       "      <td>0.0851</td>\n",
       "      <td>172.006</td>\n",
       "      <td>https://open.spotify.com/track/39ujbBjTwwqUFyS...</td>\n",
       "      <td>0.490</td>\n",
       "    </tr>\n",
       "    <tr>\n",
       "      <th>1</th>\n",
       "      <td>Aastha Gill</td>\n",
       "      <td>0.14300</td>\n",
       "      <td>0.825</td>\n",
       "      <td>0.666</td>\n",
       "      <td>5cjVsWqIkBQC7acTRhL0RO</td>\n",
       "      <td>0.000003</td>\n",
       "      <td>4</td>\n",
       "      <td>0.2370</td>\n",
       "      <td>-4.847</td>\n",
       "      <td>0</td>\n",
       "      <td>Kamariya</td>\n",
       "      <td>0.0554</td>\n",
       "      <td>96.987</td>\n",
       "      <td>https://open.spotify.com/track/5cjVsWqIkBQC7ac...</td>\n",
       "      <td>0.763</td>\n",
       "    </tr>\n",
       "    <tr>\n",
       "      <th>2</th>\n",
       "      <td>Aastha Gill</td>\n",
       "      <td>0.23600</td>\n",
       "      <td>0.663</td>\n",
       "      <td>0.551</td>\n",
       "      <td>3XYvdqcZrTmRntFDDbJkJd</td>\n",
       "      <td>0.000036</td>\n",
       "      <td>3</td>\n",
       "      <td>0.0923</td>\n",
       "      <td>-8.272</td>\n",
       "      <td>0</td>\n",
       "      <td>Buzz (feat. Badshah)</td>\n",
       "      <td>0.1090</td>\n",
       "      <td>113.314</td>\n",
       "      <td>https://open.spotify.com/track/3XYvdqcZrTmRntF...</td>\n",
       "      <td>0.601</td>\n",
       "    </tr>\n",
       "    <tr>\n",
       "      <th>3</th>\n",
       "      <td>Aastha Gill</td>\n",
       "      <td>0.00323</td>\n",
       "      <td>0.919</td>\n",
       "      <td>0.571</td>\n",
       "      <td>46GBoFCdFZZSjuGaZjZmGv</td>\n",
       "      <td>0.001680</td>\n",
       "      <td>5</td>\n",
       "      <td>0.1030</td>\n",
       "      <td>-7.175</td>\n",
       "      <td>0</td>\n",
       "      <td>Saara India</td>\n",
       "      <td>0.0687</td>\n",
       "      <td>105.007</td>\n",
       "      <td>https://open.spotify.com/track/46GBoFCdFZZSjuG...</td>\n",
       "      <td>0.231</td>\n",
       "    </tr>\n",
       "    <tr>\n",
       "      <th>4</th>\n",
       "      <td>Aastha Gill</td>\n",
       "      <td>0.12900</td>\n",
       "      <td>0.867</td>\n",
       "      <td>0.720</td>\n",
       "      <td>6VwVEIiCro1EMyh9B6Om3v</td>\n",
       "      <td>0.000000</td>\n",
       "      <td>9</td>\n",
       "      <td>0.2280</td>\n",
       "      <td>-5.188</td>\n",
       "      <td>0</td>\n",
       "      <td>Drunk n High</td>\n",
       "      <td>0.0619</td>\n",
       "      <td>104.974</td>\n",
       "      <td>https://open.spotify.com/track/6VwVEIiCro1EMyh...</td>\n",
       "      <td>0.755</td>\n",
       "    </tr>\n",
       "  </tbody>\n",
       "</table>\n",
       "</div>"
      ],
      "text/plain": [
       "        Singer  acousticness  danceability  energy                      id  \\\n",
       "0  Aastha Gill       0.48500         0.770   0.824  39ujbBjTwwqUFySaCYDMMT   \n",
       "1  Aastha Gill       0.14300         0.825   0.666  5cjVsWqIkBQC7acTRhL0RO   \n",
       "2  Aastha Gill       0.23600         0.663   0.551  3XYvdqcZrTmRntFDDbJkJd   \n",
       "3  Aastha Gill       0.00323         0.919   0.571  46GBoFCdFZZSjuGaZjZmGv   \n",
       "4  Aastha Gill       0.12900         0.867   0.720  6VwVEIiCro1EMyh9B6Om3v   \n",
       "\n",
       "   instrumentalness  key  liveness  loudness  mode                  Name  \\\n",
       "0          0.000000    1    0.3180    -6.491     0         Proper Patola   \n",
       "1          0.000003    4    0.2370    -4.847     0              Kamariya   \n",
       "2          0.000036    3    0.0923    -8.272     0  Buzz (feat. Badshah)   \n",
       "3          0.001680    5    0.1030    -7.175     0           Saara India   \n",
       "4          0.000000    9    0.2280    -5.188     0          Drunk n High   \n",
       "\n",
       "   speechiness    tempo                                         track_href  \\\n",
       "0       0.0851  172.006  https://open.spotify.com/track/39ujbBjTwwqUFyS...   \n",
       "1       0.0554   96.987  https://open.spotify.com/track/5cjVsWqIkBQC7ac...   \n",
       "2       0.1090  113.314  https://open.spotify.com/track/3XYvdqcZrTmRntF...   \n",
       "3       0.0687  105.007  https://open.spotify.com/track/46GBoFCdFZZSjuG...   \n",
       "4       0.0619  104.974  https://open.spotify.com/track/6VwVEIiCro1EMyh...   \n",
       "\n",
       "   valence  \n",
       "0    0.490  \n",
       "1    0.763  \n",
       "2    0.601  \n",
       "3    0.231  \n",
       "4    0.755  "
      ]
     },
     "execution_count": 6,
     "metadata": {},
     "output_type": "execute_result"
    }
   ],
   "source": [
    "songsA.head()"
   ]
  },
  {
   "cell_type": "code",
   "execution_count": 7,
   "id": "ef524ebe",
   "metadata": {},
   "outputs": [],
   "source": [
    "from sklearn.feature_extraction.text import CountVectorizer\n",
    "cv = CountVectorizer(max_features=2420)\n"
   ]
  },
  {
   "cell_type": "code",
   "execution_count": 8,
   "id": "1fe4fd86",
   "metadata": {},
   "outputs": [],
   "source": [
    "vector = cv.fit_transform(songsA['Singer']).toarray()"
   ]
  },
  {
   "cell_type": "code",
   "execution_count": 9,
   "id": "3e883796",
   "metadata": {},
   "outputs": [
    {
     "data": {
      "text/plain": [
       "(2231, 77)"
      ]
     },
     "execution_count": 9,
     "metadata": {},
     "output_type": "execute_result"
    }
   ],
   "source": [
    "vector.shape"
   ]
  },
  {
   "cell_type": "code",
   "execution_count": 10,
   "id": "bd1d0e37",
   "metadata": {},
   "outputs": [],
   "source": [
    "from sklearn.metrics.pairwise import cosine_similarity"
   ]
  },
  {
   "cell_type": "code",
   "execution_count": 11,
   "id": "b50d5ca4",
   "metadata": {},
   "outputs": [],
   "source": [
    "similarity2 = cosine_similarity(vector)"
   ]
  },
  {
   "cell_type": "code",
   "execution_count": 12,
   "id": "867a361a",
   "metadata": {},
   "outputs": [],
   "source": [
    "def recommendA(song):\n",
    "    index = songsA[songsA['Singer'] == song].index[0]\n",
    "    distances = sorted(list(enumerate(similarity2[index])),reverse=True,key = lambda x: x[1])\n",
    "    for i in distances[1:11]:\n",
    "        print(songsA.iloc[i[0]].Name)\n",
    "        print(songsA.iloc[i[0]].track_href)\n",
    "        "
   ]
  },
  {
   "cell_type": "code",
   "execution_count": 13,
   "id": "7c5518bd",
   "metadata": {},
   "outputs": [
    {
     "name": "stdout",
     "output_type": "stream",
     "text": [
      "Pyar Hua Iqrar Hua\n",
      "https://open.spotify.com/track/3B3MQlP4NPAxE2HEE2sEsS\n",
      "Zinda Rehti Hain Unki Mohabbatein\n",
      "https://open.spotify.com/track/3HYF4u13huHTkHQnBgit3N\n",
      "Tere Liye\n",
      "https://open.spotify.com/track/3i11e2jzUtO3jChiFl3v9x\n",
      "Yunhi Tum Mujhse - From \"Sachaa Jhutha\"\n",
      "https://open.spotify.com/track/3LhDCvh1v5go9wLln5jsfQ\n",
      "Bheegi Bheegi Raaton Mein\n",
      "https://open.spotify.com/track/4YZJr7NL2fmZkPI3CXeNhV\n",
      "Pyar Hua Iqrar Hua\n",
      "https://open.spotify.com/track/3B3MQlP4NPAxE2HEE2sEsS\n",
      "Gore Rang Pe Itna Gumaan Na Kar - Roti / Soundtrack Version\n",
      "https://open.spotify.com/track/6ISF8WtUVBrjXB1rL1PMFu\n",
      "Itna Na Mujhse Tu Pyar Badha\n",
      "https://open.spotify.com/track/3vLFA2nTU6usnRbYrmVo6f\n",
      "Humko Humise Chura Lo\n",
      "https://open.spotify.com/track/4T3VAoUDvCJkX5OSYXnng0\n",
      "Gore Rang Pe Itna Gumaan Na Kar - From \"Roti\"\n",
      "https://open.spotify.com/track/0MBlcKtrEIDOWzKYYfifLn\n"
     ]
    }
   ],
   "source": [
    "recommendA('Lata Mangeshkar')"
   ]
  },
  {
   "cell_type": "code",
   "execution_count": 14,
   "id": "3754c063",
   "metadata": {},
   "outputs": [],
   "source": [
    "import pickle"
   ]
  },
  {
   "cell_type": "code",
   "execution_count": null,
   "id": "f4027566",
   "metadata": {},
   "outputs": [],
   "source": []
  },
  {
   "cell_type": "code",
   "execution_count": 15,
   "id": "10836d25",
   "metadata": {},
   "outputs": [
    {
     "data": {
      "text/plain": [
       "array(['Aastha Gill', 'Aastha Gill', 'Aastha Gill', ..., 'Vishal Dadlani',\n",
       "       'Vishal Dadlani', 'Vishal Dadlani'], dtype=object)"
      ]
     },
     "execution_count": 15,
     "metadata": {},
     "output_type": "execute_result"
    }
   ],
   "source": [
    "songsA['Singer'].values"
   ]
  },
  {
   "cell_type": "code",
   "execution_count": 16,
   "id": "b86bf545",
   "metadata": {},
   "outputs": [],
   "source": [
    "data2=songsA['Singer'].values"
   ]
  },
  {
   "cell_type": "code",
   "execution_count": 17,
   "id": "c6d992c8",
   "metadata": {},
   "outputs": [],
   "source": [
    "singer_a = np.unique(data2)"
   ]
  },
  {
   "cell_type": "code",
   "execution_count": 18,
   "id": "78547f90",
   "metadata": {},
   "outputs": [
    {
     "name": "stdout",
     "output_type": "stream",
     "text": [
      "['AR Rahman' 'Aastha Gill' 'Alka Yagnik' 'Amit Trivedi' 'Ankit Tiwari'\n",
      " 'Anu Malik' 'Arijit Singh' 'Armaan Malik' 'Asha Bhosle' 'Atif aslam'\n",
      " 'Badshah' 'Darshan Raval' 'Dhvani Bhanushali' 'Dino James' 'Divine'\n",
      " 'Emiway bantai' 'Farhan Akhtar' 'Guru Randhawa' 'Himesh Reshammiya'\n",
      " 'Javed Ali' 'KK' 'Kishore Kumar' 'Kumar Sanu' 'Lata Mangeshkar'\n",
      " 'Mahendra Kapoor' 'Mika Singh' 'Mohammad Rafi' 'Mohit Chauhan'\n",
      " 'Monali Thakur' 'Neha Kakkar' 'Pritam' 'Raftaar' 'Sachet Tandon' 'Sanam'\n",
      " 'Shaan' 'Shankar Mahadevan' 'Shekhar Ravjiani' 'Shreya Ghoshal'\n",
      " 'Sonu Nigam' 'Sukhwinder Singh' 'Sunidhi Chauhan' 'Tulsi Kumar'\n",
      " 'Udit Narayan' 'Usha Uthup' 'Vishal Dadlani']\n"
     ]
    }
   ],
   "source": [
    "print(singer_a)"
   ]
  },
  {
   "cell_type": "code",
   "execution_count": 19,
   "id": "899e8efc",
   "metadata": {},
   "outputs": [],
   "source": [
    "pickle.dump(songsA,open('music2.pkl','wb'))"
   ]
  },
  {
   "cell_type": "code",
   "execution_count": 20,
   "id": "ed4d6169",
   "metadata": {},
   "outputs": [
    {
     "data": {
      "text/plain": [
       "array(['Aastha Gill', 'Aastha Gill', 'Aastha Gill', ..., 'Vishal Dadlani',\n",
       "       'Vishal Dadlani', 'Vishal Dadlani'], dtype=object)"
      ]
     },
     "execution_count": 20,
     "metadata": {},
     "output_type": "execute_result"
    }
   ],
   "source": [
    "songsA['Singer'].values"
   ]
  },
  {
   "cell_type": "code",
   "execution_count": 21,
   "id": "80fd70f8",
   "metadata": {},
   "outputs": [],
   "source": [
    "pickle.dump(singer_a,open('music_singer.pkl','wb'))"
   ]
  },
  {
   "cell_type": "code",
   "execution_count": 22,
   "id": "36e8b266",
   "metadata": {},
   "outputs": [],
   "source": [
    "pickle.dump(similarity2,open('similarity2.pkl','wb'))"
   ]
  },
  {
   "cell_type": "code",
   "execution_count": 23,
   "id": "12fd0c3a",
   "metadata": {},
   "outputs": [],
   "source": [
    "pickle.dump(songsA,open('songsA.pkl','wb'))"
   ]
  },
  {
   "cell_type": "code",
   "execution_count": null,
   "id": "3e59b62c",
   "metadata": {},
   "outputs": [],
   "source": []
  },
  {
   "cell_type": "code",
   "execution_count": null,
   "id": "1de07e5f",
   "metadata": {},
   "outputs": [],
   "source": []
  },
  {
   "cell_type": "code",
   "execution_count": null,
   "id": "bd6198e8",
   "metadata": {},
   "outputs": [],
   "source": []
  },
  {
   "cell_type": "code",
   "execution_count": null,
   "id": "6bdec4d7",
   "metadata": {},
   "outputs": [],
   "source": []
  },
  {
   "cell_type": "code",
   "execution_count": null,
   "id": "9a0389e7",
   "metadata": {},
   "outputs": [],
   "source": []
  }
 ],
 "metadata": {
  "kernelspec": {
   "display_name": "Python 3 (ipykernel)",
   "language": "python",
   "name": "python3"
  },
  "language_info": {
   "codemirror_mode": {
    "name": "ipython",
    "version": 3
   },
   "file_extension": ".py",
   "mimetype": "text/x-python",
   "name": "python",
   "nbconvert_exporter": "python",
   "pygments_lexer": "ipython3",
   "version": "3.10.9"
  }
 },
 "nbformat": 4,
 "nbformat_minor": 5
}
